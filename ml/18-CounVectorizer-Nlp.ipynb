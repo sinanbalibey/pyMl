{
 "cells": [
  {
   "cell_type": "code",
   "execution_count": 25,
   "id": "ba2aa34b-8b8e-4a41-bbc7-7cf0dbdcfc37",
   "metadata": {},
   "outputs": [],
   "source": [
    "import pandas as pd \n",
    "import numpy as np \n",
    "from sklearn.feature_extraction.text import CountVectorizer"
   ]
  },
  {
   "cell_type": "code",
   "execution_count": 27,
   "id": "cd62f551-97b9-4037-85d2-9793837220f3",
   "metadata": {},
   "outputs": [],
   "source": [
    "df=pd.DataFrame()"
   ]
  },
  {
   "cell_type": "code",
   "execution_count": 29,
   "id": "5a52f522-05d1-4eeb-9b65-15246f012a57",
   "metadata": {},
   "outputs": [],
   "source": [
    "df['cumleler']=[\"ali bak\",\"ali ata bak\",\"bak ali bak\", \"ali güzel ata bak\",\"ışık ılık süt iç\",\"ışık süt iç\",\"iç ışık iç\"]"
   ]
  },
  {
   "cell_type": "code",
   "execution_count": 31,
   "id": "39fab7ff-ccbd-4b68-adc8-f9d0f2b4d376",
   "metadata": {},
   "outputs": [],
   "source": [
    "cv=CountVectorizer(max_features=4)"
   ]
  },
  {
   "cell_type": "code",
   "execution_count": 33,
   "id": "540ae5dd-33ab-4998-9738-8ff53083fb63",
   "metadata": {},
   "outputs": [],
   "source": [
    "a=cv.fit_transform(df['cumleler'])"
   ]
  },
  {
   "cell_type": "code",
   "execution_count": 37,
   "id": "c0788a0b-f8f1-4071-9d48-d8bead234f71",
   "metadata": {},
   "outputs": [
    {
     "data": {
      "text/plain": [
       "array([[1, 1, 0, 0],\n",
       "       [1, 1, 0, 0],\n",
       "       [1, 2, 0, 0],\n",
       "       [1, 1, 0, 0],\n",
       "       [0, 0, 1, 1],\n",
       "       [0, 0, 1, 1],\n",
       "       [0, 0, 2, 1]], dtype=int64)"
      ]
     },
     "execution_count": 37,
     "metadata": {},
     "output_type": "execute_result"
    }
   ],
   "source": [
    "x=a.toarray()\n",
    "x"
   ]
  },
  {
   "cell_type": "code",
   "execution_count": 39,
   "id": "ea791c39-75bf-4dc3-b85a-0cd456dd6562",
   "metadata": {},
   "outputs": [
    {
     "data": {
      "text/plain": [
       "array(['ali', 'bak', 'iç', 'ışık'], dtype=object)"
      ]
     },
     "execution_count": 39,
     "metadata": {},
     "output_type": "execute_result"
    }
   ],
   "source": [
    "cv.get_feature_names_out()"
   ]
  },
  {
   "cell_type": "code",
   "execution_count": null,
   "id": "4b02d803-51ac-485a-9194-6989bd71492a",
   "metadata": {},
   "outputs": [],
   "source": []
  }
 ],
 "metadata": {
  "kernelspec": {
   "display_name": "Python 3 (ipykernel)",
   "language": "python",
   "name": "python3"
  },
  "language_info": {
   "codemirror_mode": {
    "name": "ipython",
    "version": 3
   },
   "file_extension": ".py",
   "mimetype": "text/x-python",
   "name": "python",
   "nbconvert_exporter": "python",
   "pygments_lexer": "ipython3",
   "version": "3.12.7"
  }
 },
 "nbformat": 4,
 "nbformat_minor": 5
}
