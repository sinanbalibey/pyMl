{
 "cells": [
  {
   "cell_type": "code",
   "execution_count": 1,
   "id": "85547f74-8ec9-49b5-90b6-6ef3c750f230",
   "metadata": {},
   "outputs": [],
   "source": [
    "#https://www.kaggle.com/datasets/cagrigungor/telefon-bankacl-mobile-bank"
   ]
  },
  {
   "cell_type": "code",
   "execution_count": 51,
   "id": "d10cecdf-e978-47c5-9ea8-263ffca9c52a",
   "metadata": {},
   "outputs": [],
   "source": [
    "import pandas as pd \n",
    "import numpy as np\n",
    "from sklearn.feature_extraction.text import CountVectorizer\n",
    "from sklearn.ensemble import RandomForestClassifier\n",
    "from sklearn.model_selection import train_test_split"
   ]
  },
  {
   "cell_type": "code",
   "execution_count": 53,
   "id": "6d6bdb29-44d9-4d23-ae6f-fd1de56fb371",
   "metadata": {},
   "outputs": [
    {
     "data": {
      "text/html": [
       "<div>\n",
       "<style scoped>\n",
       "    .dataframe tbody tr th:only-of-type {\n",
       "        vertical-align: middle;\n",
       "    }\n",
       "\n",
       "    .dataframe tbody tr th {\n",
       "        vertical-align: top;\n",
       "    }\n",
       "\n",
       "    .dataframe thead th {\n",
       "        text-align: right;\n",
       "    }\n",
       "</style>\n",
       "<table border=\"1\" class=\"dataframe\">\n",
       "  <thead>\n",
       "    <tr style=\"text-align: right;\">\n",
       "      <th></th>\n",
       "      <th>Unnamed: 0</th>\n",
       "      <th>sorgu</th>\n",
       "      <th>label</th>\n",
       "      <th>le</th>\n",
       "    </tr>\n",
       "  </thead>\n",
       "  <tbody>\n",
       "    <tr>\n",
       "      <th>0</th>\n",
       "      <td>0</td>\n",
       "      <td>kredi kartımı kaybettim</td>\n",
       "      <td>kartkayip</td>\n",
       "      <td>1</td>\n",
       "    </tr>\n",
       "    <tr>\n",
       "      <th>1</th>\n",
       "      <td>1</td>\n",
       "      <td>banka kartımı kaybettim</td>\n",
       "      <td>kartkayip</td>\n",
       "      <td>1</td>\n",
       "    </tr>\n",
       "    <tr>\n",
       "      <th>2</th>\n",
       "      <td>2</td>\n",
       "      <td>kredi kartımı bulamıyorum</td>\n",
       "      <td>kartkayip</td>\n",
       "      <td>1</td>\n",
       "    </tr>\n",
       "    <tr>\n",
       "      <th>3</th>\n",
       "      <td>3</td>\n",
       "      <td>kredi kartım çalındı</td>\n",
       "      <td>kartkayip</td>\n",
       "      <td>1</td>\n",
       "    </tr>\n",
       "    <tr>\n",
       "      <th>4</th>\n",
       "      <td>4</td>\n",
       "      <td>kredi kartımın olduğunu bilmiyorum</td>\n",
       "      <td>kartkayip</td>\n",
       "      <td>1</td>\n",
       "    </tr>\n",
       "  </tbody>\n",
       "</table>\n",
       "</div>"
      ],
      "text/plain": [
       "   Unnamed: 0                               sorgu      label  le\n",
       "0           0             kredi kartımı kaybettim  kartkayip   1\n",
       "1           1             banka kartımı kaybettim  kartkayip   1\n",
       "2           2           kredi kartımı bulamıyorum  kartkayip   1\n",
       "3           3                kredi kartım çalındı  kartkayip   1\n",
       "4           4  kredi kartımın olduğunu bilmiyorum  kartkayip   1"
      ]
     },
     "execution_count": 53,
     "metadata": {},
     "output_type": "execute_result"
    }
   ],
   "source": [
    "df=pd.read_csv(\"banka.csv\")\n",
    "df.head(5)"
   ]
  },
  {
   "cell_type": "code",
   "execution_count": 55,
   "id": "d8f93afb-fec8-447b-aeb8-691e2348411a",
   "metadata": {},
   "outputs": [
    {
     "data": {
      "text/plain": [
       "array(['kartkayip', 'borcodeme', 'paragonderme'], dtype=object)"
      ]
     },
     "execution_count": 55,
     "metadata": {},
     "output_type": "execute_result"
    }
   ],
   "source": [
    "df['label'].unique()"
   ]
  },
  {
   "cell_type": "code",
   "execution_count": 57,
   "id": "10678cef-4f2e-44f7-bd4a-7059bf4db368",
   "metadata": {},
   "outputs": [
    {
     "data": {
      "text/plain": [
       "array([1, 0, 2], dtype=int64)"
      ]
     },
     "execution_count": 57,
     "metadata": {},
     "output_type": "execute_result"
    }
   ],
   "source": [
    "df['le'].unique()"
   ]
  },
  {
   "cell_type": "code",
   "execution_count": 59,
   "id": "91fe1447-5886-440b-8b5c-92173c3a7818",
   "metadata": {},
   "outputs": [],
   "source": [
    "df=df[['sorgu','label']]"
   ]
  },
  {
   "cell_type": "code",
   "execution_count": 61,
   "id": "254097fd-749b-43fb-bb6c-e94f1d251109",
   "metadata": {},
   "outputs": [
    {
     "data": {
      "text/html": [
       "<div>\n",
       "<style scoped>\n",
       "    .dataframe tbody tr th:only-of-type {\n",
       "        vertical-align: middle;\n",
       "    }\n",
       "\n",
       "    .dataframe tbody tr th {\n",
       "        vertical-align: top;\n",
       "    }\n",
       "\n",
       "    .dataframe thead th {\n",
       "        text-align: right;\n",
       "    }\n",
       "</style>\n",
       "<table border=\"1\" class=\"dataframe\">\n",
       "  <thead>\n",
       "    <tr style=\"text-align: right;\">\n",
       "      <th></th>\n",
       "      <th>sorgu</th>\n",
       "      <th>label</th>\n",
       "    </tr>\n",
       "  </thead>\n",
       "  <tbody>\n",
       "    <tr>\n",
       "      <th>0</th>\n",
       "      <td>kredi kartımı kaybettim</td>\n",
       "      <td>kartkayip</td>\n",
       "    </tr>\n",
       "    <tr>\n",
       "      <th>1</th>\n",
       "      <td>banka kartımı kaybettim</td>\n",
       "      <td>kartkayip</td>\n",
       "    </tr>\n",
       "    <tr>\n",
       "      <th>2</th>\n",
       "      <td>kredi kartımı bulamıyorum</td>\n",
       "      <td>kartkayip</td>\n",
       "    </tr>\n",
       "    <tr>\n",
       "      <th>3</th>\n",
       "      <td>kredi kartım çalındı</td>\n",
       "      <td>kartkayip</td>\n",
       "    </tr>\n",
       "    <tr>\n",
       "      <th>4</th>\n",
       "      <td>kredi kartımın olduğunu bilmiyorum</td>\n",
       "      <td>kartkayip</td>\n",
       "    </tr>\n",
       "  </tbody>\n",
       "</table>\n",
       "</div>"
      ],
      "text/plain": [
       "                                sorgu      label\n",
       "0             kredi kartımı kaybettim  kartkayip\n",
       "1             banka kartımı kaybettim  kartkayip\n",
       "2           kredi kartımı bulamıyorum  kartkayip\n",
       "3                kredi kartım çalındı  kartkayip\n",
       "4  kredi kartımın olduğunu bilmiyorum  kartkayip"
      ]
     },
     "execution_count": 61,
     "metadata": {},
     "output_type": "execute_result"
    }
   ],
   "source": [
    "df.head(5)"
   ]
  },
  {
   "cell_type": "code",
   "execution_count": 63,
   "id": "c3aa2b9b-6138-457c-b8d6-531c5efd64fd",
   "metadata": {},
   "outputs": [
    {
     "name": "stdin",
     "output_type": "stream",
     "text": [
      "Yapmak İstediniz İşlemi Giriniz. kredi kartı borcumu ödemek istemiyorum\n"
     ]
    },
    {
     "name": "stdout",
     "output_type": "stream",
     "text": [
      "Sonuc: ['borcodeme'] Skor: 1.0\n"
     ]
    }
   ],
   "source": [
    "stopwords=['fakat','lakin','ancak','acaba', 'ama', 'aslında', 'az', 'bazı', 'belki', 'biri', 'birkaç', 'birşey', 'biz', 'bu', 'çok', 'çünkü', 'da', 'daha', 'de', 'defa', 'diye', 'eğer', 'en', 'gibi', 'hem', 'hep', 'hepsi', 'her', 'hiç', 'için', 'ile', 'ise', 'kez', 'ki', 'kim', 'mı', 'mu', 'mü', 'nasıl', 'ne', 'neden', 'nerde', 'nerede', 'nereye', 'niçin', 'niye', 'o', 'sanki', 'şey', 'siz', 'şu', 'tüm', 've', 'veya', 'ya', 'yani']\n",
    "\n",
    "mesaj=input(\"Yapmak İstediniz İşlemi Giriniz.\")\n",
    "\n",
    "mesajdf=pd.DataFrame({\"sorgu\":mesaj,\"label\":0},index=[42])\n",
    "\n",
    "df=pd.concat([df,mesajdf],ignore_index=True)\n",
    "\n",
    "\n",
    "\n",
    "for word in stopwords:\n",
    "    word=\" \"+word+\" \"\n",
    "    df['sorgu']=df['sorgu'].str.replace(word,\" \")\n",
    "\n",
    "cv=CountVectorizer(max_features=50)\n",
    "\n",
    "\n",
    "x=cv.fit_transform(df['sorgu']).toarray()\n",
    "y=df['label']\n",
    "\n",
    "\n",
    "tahmin=x[-1].copy()\n",
    "\n",
    "x=x[0:-1]\n",
    "y=y[0:-1]\n",
    "\n",
    "x_train,x_test,y_train,y_test=train_test_split(x,y,random_state=21,train_size=0.7)\n",
    "\n",
    "rf=RandomForestClassifier()\n",
    "model=rf.fit(x_train,y_train)\n",
    "skor=model.score(x_test,y_test)\n",
    "\n",
    "sonuc=model.predict([tahmin])\n",
    "\n",
    "print(\"Sonuc:\",sonuc,\"Skor:\",skor)\n",
    "\n"
   ]
  },
  {
   "cell_type": "code",
   "execution_count": null,
   "id": "e224ce6c-95a5-4680-8204-9cd534a39d97",
   "metadata": {},
   "outputs": [],
   "source": []
  }
 ],
 "metadata": {
  "kernelspec": {
   "display_name": "Python 3 (ipykernel)",
   "language": "python",
   "name": "python3"
  },
  "language_info": {
   "codemirror_mode": {
    "name": "ipython",
    "version": 3
   },
   "file_extension": ".py",
   "mimetype": "text/x-python",
   "name": "python",
   "nbconvert_exporter": "python",
   "pygments_lexer": "ipython3",
   "version": "3.12.7"
  }
 },
 "nbformat": 4,
 "nbformat_minor": 5
}
