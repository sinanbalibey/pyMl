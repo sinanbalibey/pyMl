{
 "cells": [
  {
   "cell_type": "code",
   "execution_count": 41,
   "id": "3d97a869-c796-4a0a-9cda-c49c61170937",
   "metadata": {},
   "outputs": [],
   "source": [
    "import pandas as pd\n",
    "import numpy as np\n",
    "from sklearn.preprocessing import StandardScaler,MinMaxScaler"
   ]
  },
  {
   "cell_type": "code",
   "execution_count": 43,
   "id": "21334488-351b-47eb-9e38-8a2bbc8a1f17",
   "metadata": {},
   "outputs": [
    {
     "data": {
      "text/html": [
       "<div>\n",
       "<style scoped>\n",
       "    .dataframe tbody tr th:only-of-type {\n",
       "        vertical-align: middle;\n",
       "    }\n",
       "\n",
       "    .dataframe tbody tr th {\n",
       "        vertical-align: top;\n",
       "    }\n",
       "\n",
       "    .dataframe thead th {\n",
       "        text-align: right;\n",
       "    }\n",
       "</style>\n",
       "<table border=\"1\" class=\"dataframe\">\n",
       "  <thead>\n",
       "    <tr style=\"text-align: right;\">\n",
       "      <th></th>\n",
       "      <th>Model Name</th>\n",
       "      <th>Engine Type</th>\n",
       "      <th>HP or lbs thr ea engine</th>\n",
       "      <th>Max speed Knots</th>\n",
       "      <th>Rcmnd cruise Knots</th>\n",
       "      <th>Stall Knots dirty</th>\n",
       "      <th>Fuel gal/lbs</th>\n",
       "      <th>All eng rate of climb</th>\n",
       "      <th>Eng out rate of climb</th>\n",
       "      <th>Takeoff over 50ft</th>\n",
       "      <th>Landing over 50ft</th>\n",
       "      <th>Empty weight lbs</th>\n",
       "      <th>Length ft/in</th>\n",
       "      <th>Wing span ft/in</th>\n",
       "      <th>Range N.M.</th>\n",
       "      <th>Price</th>\n",
       "    </tr>\n",
       "  </thead>\n",
       "  <tbody>\n",
       "    <tr>\n",
       "      <th>0</th>\n",
       "      <td>100 Darter (S.L. Industries)</td>\n",
       "      <td>Piston</td>\n",
       "      <td>145</td>\n",
       "      <td>104</td>\n",
       "      <td>91.0</td>\n",
       "      <td>46.0</td>\n",
       "      <td>36</td>\n",
       "      <td>450</td>\n",
       "      <td>900.0</td>\n",
       "      <td>1300.0</td>\n",
       "      <td>2,050</td>\n",
       "      <td>1,180</td>\n",
       "      <td>25/3</td>\n",
       "      <td>37/5</td>\n",
       "      <td>370</td>\n",
       "      <td>1300000.0</td>\n",
       "    </tr>\n",
       "    <tr>\n",
       "      <th>1</th>\n",
       "      <td>7 CCM Champ</td>\n",
       "      <td>Piston</td>\n",
       "      <td>85</td>\n",
       "      <td>89</td>\n",
       "      <td>83.0</td>\n",
       "      <td>44.0</td>\n",
       "      <td>15</td>\n",
       "      <td>600</td>\n",
       "      <td>720.0</td>\n",
       "      <td>800.0</td>\n",
       "      <td>1,350</td>\n",
       "      <td>820</td>\n",
       "      <td>20/7</td>\n",
       "      <td>36/1</td>\n",
       "      <td>190</td>\n",
       "      <td>1230000.0</td>\n",
       "    </tr>\n",
       "    <tr>\n",
       "      <th>2</th>\n",
       "      <td>100 Darter (S.L. Industries)</td>\n",
       "      <td>Piston</td>\n",
       "      <td>90</td>\n",
       "      <td>90</td>\n",
       "      <td>78.0</td>\n",
       "      <td>37.0</td>\n",
       "      <td>19</td>\n",
       "      <td>650</td>\n",
       "      <td>475.0</td>\n",
       "      <td>850.0</td>\n",
       "      <td>1,300</td>\n",
       "      <td>810</td>\n",
       "      <td>21/5</td>\n",
       "      <td>35/0</td>\n",
       "      <td>210</td>\n",
       "      <td>1600000.0</td>\n",
       "    </tr>\n",
       "    <tr>\n",
       "      <th>3</th>\n",
       "      <td>7 AC Champ</td>\n",
       "      <td>Piston</td>\n",
       "      <td>85</td>\n",
       "      <td>88</td>\n",
       "      <td>78.0</td>\n",
       "      <td>37.0</td>\n",
       "      <td>19</td>\n",
       "      <td>620</td>\n",
       "      <td>500.0</td>\n",
       "      <td>850.0</td>\n",
       "      <td>1,300</td>\n",
       "      <td>800</td>\n",
       "      <td>21/5</td>\n",
       "      <td>35/0</td>\n",
       "      <td>210</td>\n",
       "      <td>1300000.0</td>\n",
       "    </tr>\n",
       "    <tr>\n",
       "      <th>4</th>\n",
       "      <td>100 Darter (S.L. Industries)</td>\n",
       "      <td>Piston</td>\n",
       "      <td>65</td>\n",
       "      <td>83</td>\n",
       "      <td>74.0</td>\n",
       "      <td>33.0</td>\n",
       "      <td>14</td>\n",
       "      <td>370</td>\n",
       "      <td>632.0</td>\n",
       "      <td>885.0</td>\n",
       "      <td>1,220</td>\n",
       "      <td>740</td>\n",
       "      <td>21/5</td>\n",
       "      <td>35/0</td>\n",
       "      <td>175</td>\n",
       "      <td>1250000.0</td>\n",
       "    </tr>\n",
       "  </tbody>\n",
       "</table>\n",
       "</div>"
      ],
      "text/plain": [
       "                     Model Name Engine Type HP or lbs thr ea engine  \\\n",
       "0  100 Darter (S.L. Industries)      Piston                     145   \n",
       "1                   7 CCM Champ      Piston                      85   \n",
       "2  100 Darter (S.L. Industries)      Piston                      90   \n",
       "3                    7 AC Champ      Piston                      85   \n",
       "4  100 Darter (S.L. Industries)      Piston                      65   \n",
       "\n",
       "  Max speed Knots  Rcmnd cruise Knots  Stall Knots dirty  Fuel gal/lbs  \\\n",
       "0             104                91.0               46.0            36   \n",
       "1              89                83.0               44.0            15   \n",
       "2              90                78.0               37.0            19   \n",
       "3              88                78.0               37.0            19   \n",
       "4              83                74.0               33.0            14   \n",
       "\n",
       "  All eng rate of climb  Eng out rate of climb  Takeoff over 50ft  \\\n",
       "0                   450                  900.0             1300.0   \n",
       "1                   600                  720.0              800.0   \n",
       "2                   650                  475.0              850.0   \n",
       "3                   620                  500.0              850.0   \n",
       "4                   370                  632.0              885.0   \n",
       "\n",
       "  Landing over 50ft Empty weight lbs Length ft/in Wing span ft/in Range N.M.  \\\n",
       "0             2,050            1,180         25/3            37/5        370   \n",
       "1             1,350              820         20/7            36/1        190   \n",
       "2             1,300              810         21/5            35/0        210   \n",
       "3             1,300              800         21/5            35/0        210   \n",
       "4             1,220              740         21/5            35/0        175   \n",
       "\n",
       "       Price  \n",
       "0  1300000.0  \n",
       "1  1230000.0  \n",
       "2  1600000.0  \n",
       "3  1300000.0  \n",
       "4  1250000.0  "
      ]
     },
     "execution_count": 43,
     "metadata": {},
     "output_type": "execute_result"
    }
   ],
   "source": [
    "df=pd.read_csv(\"PlanePrice.csv\")\n",
    "df.head(5)"
   ]
  },
  {
   "cell_type": "code",
   "execution_count": 45,
   "id": "213cb613-63cf-4c82-b493-52ec92ec2153",
   "metadata": {},
   "outputs": [
    {
     "name": "stdout",
     "output_type": "stream",
     "text": [
      "<class 'pandas.core.frame.DataFrame'>\n",
      "RangeIndex: 517 entries, 0 to 516\n",
      "Data columns (total 16 columns):\n",
      " #   Column                   Non-Null Count  Dtype  \n",
      "---  ------                   --------------  -----  \n",
      " 0   Model Name               517 non-null    object \n",
      " 1   Engine Type              517 non-null    object \n",
      " 2   HP or lbs thr ea engine  517 non-null    object \n",
      " 3   Max speed Knots          497 non-null    object \n",
      " 4   Rcmnd cruise Knots       507 non-null    float64\n",
      " 5   Stall Knots dirty        502 non-null    float64\n",
      " 6   Fuel gal/lbs             517 non-null    int64  \n",
      " 7   All eng rate of climb    513 non-null    object \n",
      " 8   Eng out rate of climb    491 non-null    float64\n",
      " 9   Takeoff over 50ft        492 non-null    float64\n",
      " 10  Landing over 50ft        517 non-null    object \n",
      " 11  Empty weight lbs         516 non-null    object \n",
      " 12  Length ft/in             517 non-null    object \n",
      " 13  Wing span ft/in          517 non-null    object \n",
      " 14  Range N.M.               499 non-null    object \n",
      " 15  Price                    507 non-null    float64\n",
      "dtypes: float64(5), int64(1), object(10)\n",
      "memory usage: 64.8+ KB\n"
     ]
    }
   ],
   "source": [
    "df.info()"
   ]
  },
  {
   "cell_type": "code",
   "execution_count": 47,
   "id": "01f395d3-3aa0-4806-bd27-3eb75585a554",
   "metadata": {},
   "outputs": [],
   "source": [
    "df=df[[\"Rcmnd cruise Knots\",\"Stall Knots dirty\",\"Fuel gal/lbs\",\"Eng out rate of climb\",\"Price\"]]"
   ]
  },
  {
   "cell_type": "code",
   "execution_count": 49,
   "id": "ebc559ed-1f78-4768-9416-da42bfb5a6cc",
   "metadata": {},
   "outputs": [],
   "source": [
    "df.head(3)\n",
    "df=df.dropna()"
   ]
  },
  {
   "cell_type": "code",
   "execution_count": 51,
   "id": "9cf49837-7dbf-4bb8-aa39-165cc39307cc",
   "metadata": {},
   "outputs": [],
   "source": [
    "y=df['Price']\n",
    "X=df.drop(\"Price\",axis=1)"
   ]
  },
  {
   "cell_type": "code",
   "execution_count": 53,
   "id": "20a1695f-a1a2-49da-b7e7-43694addab11",
   "metadata": {},
   "outputs": [],
   "source": [
    "#Y için normalizasyon yapılmaz\n",
    "# outlier(Aykırı değer) etkisini azaltır\n",
    "# model performansı artar\n"
   ]
  },
  {
   "cell_type": "code",
   "execution_count": 55,
   "id": "87665039-af78-4e48-8c2b-c976930d5c04",
   "metadata": {},
   "outputs": [],
   "source": [
    "ss=StandardScaler()\n",
    "X2=ss.fit_transform(X)"
   ]
  },
  {
   "cell_type": "code",
   "execution_count": 57,
   "id": "c7e1d4b0-40cf-42c9-8cac-546d367a11fb",
   "metadata": {},
   "outputs": [
    {
     "data": {
      "text/plain": [
       "3.475480772739621e-17"
      ]
     },
     "execution_count": 57,
     "metadata": {},
     "output_type": "execute_result"
    }
   ],
   "source": [
    "np.mean(X2)"
   ]
  },
  {
   "cell_type": "code",
   "execution_count": 59,
   "id": "add66b64-dfb6-4a98-8cfc-fc323ecdf863",
   "metadata": {},
   "outputs": [
    {
     "data": {
      "text/plain": [
       "array([[-1.06834072, -0.90496048, -0.30121357, -1.01117862],\n",
       "       [-1.14858511, -1.02751346, -0.30662452, -1.17736479],\n",
       "       [-1.19873786, -1.45644888, -0.30559386, -1.40356263],\n",
       "       ...,\n",
       "       [ 0.77728034,  1.60737553, -0.21000056,  1.14000903],\n",
       "       [ 0.7271276 ,  0.99461065, -0.21206187,  0.87226464],\n",
       "       [ 0.71709705,  0.87205767, -0.21206187, -0.0140616 ]])"
      ]
     },
     "execution_count": 59,
     "metadata": {},
     "output_type": "execute_result"
    }
   ],
   "source": [
    "X2"
   ]
  },
  {
   "cell_type": "code",
   "execution_count": 67,
   "id": "13859395-1ef1-4d03-a043-c4891598bb55",
   "metadata": {},
   "outputs": [
    {
     "data": {
      "text/html": [
       "<div>\n",
       "<style scoped>\n",
       "    .dataframe tbody tr th:only-of-type {\n",
       "        vertical-align: middle;\n",
       "    }\n",
       "\n",
       "    .dataframe tbody tr th {\n",
       "        vertical-align: top;\n",
       "    }\n",
       "\n",
       "    .dataframe thead th {\n",
       "        text-align: right;\n",
       "    }\n",
       "</style>\n",
       "<table border=\"1\" class=\"dataframe\">\n",
       "  <thead>\n",
       "    <tr style=\"text-align: right;\">\n",
       "      <th></th>\n",
       "      <th>0</th>\n",
       "      <th>1</th>\n",
       "      <th>2</th>\n",
       "      <th>3</th>\n",
       "    </tr>\n",
       "  </thead>\n",
       "  <tbody>\n",
       "    <tr>\n",
       "      <th>0</th>\n",
       "      <td>-1.068341</td>\n",
       "      <td>-0.904960</td>\n",
       "      <td>-0.301214</td>\n",
       "      <td>-1.011179</td>\n",
       "    </tr>\n",
       "    <tr>\n",
       "      <th>1</th>\n",
       "      <td>-1.148585</td>\n",
       "      <td>-1.027513</td>\n",
       "      <td>-0.306625</td>\n",
       "      <td>-1.177365</td>\n",
       "    </tr>\n",
       "    <tr>\n",
       "      <th>2</th>\n",
       "      <td>-1.198738</td>\n",
       "      <td>-1.456449</td>\n",
       "      <td>-0.305594</td>\n",
       "      <td>-1.403563</td>\n",
       "    </tr>\n",
       "    <tr>\n",
       "      <th>3</th>\n",
       "      <td>-1.198738</td>\n",
       "      <td>-1.456449</td>\n",
       "      <td>-0.305594</td>\n",
       "      <td>-1.380481</td>\n",
       "    </tr>\n",
       "    <tr>\n",
       "      <th>4</th>\n",
       "      <td>-1.238860</td>\n",
       "      <td>-1.701555</td>\n",
       "      <td>-0.306882</td>\n",
       "      <td>-1.258611</td>\n",
       "    </tr>\n",
       "  </tbody>\n",
       "</table>\n",
       "</div>"
      ],
      "text/plain": [
       "          0         1         2         3\n",
       "0 -1.068341 -0.904960 -0.301214 -1.011179\n",
       "1 -1.148585 -1.027513 -0.306625 -1.177365\n",
       "2 -1.198738 -1.456449 -0.305594 -1.403563\n",
       "3 -1.198738 -1.456449 -0.305594 -1.380481\n",
       "4 -1.238860 -1.701555 -0.306882 -1.258611"
      ]
     },
     "execution_count": 67,
     "metadata": {},
     "output_type": "execute_result"
    }
   ],
   "source": [
    "X2=pd.DataFrame(X2)\n",
    "X2.head(5)"
   ]
  },
  {
   "cell_type": "code",
   "execution_count": 75,
   "id": "44ae1c93-c533-4d4c-b84e-7c33163a2892",
   "metadata": {},
   "outputs": [
    {
     "data": {
      "text/plain": [
       "6.178632484870436e-17"
      ]
     },
     "execution_count": 75,
     "metadata": {},
     "output_type": "execute_result"
    }
   ],
   "source": [
    "X2[0].mean()"
   ]
  },
  {
   "cell_type": "code",
   "execution_count": 73,
   "id": "c8ec69e3-52c2-4773-ad36-93db68d69f75",
   "metadata": {},
   "outputs": [
    {
     "data": {
      "text/plain": [
       "1.0010887319501067"
      ]
     },
     "execution_count": 73,
     "metadata": {},
     "output_type": "execute_result"
    }
   ],
   "source": [
    "X2[1].std()"
   ]
  },
  {
   "cell_type": "code",
   "execution_count": 77,
   "id": "2597291d-5189-4219-a8df-b36ee7a4e524",
   "metadata": {},
   "outputs": [
    {
     "data": {
      "text/plain": [
       "1.001088731950106"
      ]
     },
     "execution_count": 77,
     "metadata": {},
     "output_type": "execute_result"
    }
   ],
   "source": [
    "X2[2].std()"
   ]
  },
  {
   "cell_type": "code",
   "execution_count": 79,
   "id": "f3b52721-055d-436f-b603-f2db9878fa27",
   "metadata": {},
   "outputs": [],
   "source": [
    "mm=MinMaxScaler()\n"
   ]
  },
  {
   "cell_type": "code",
   "execution_count": 81,
   "id": "5117912a-bec9-4857-aa2c-7869edb1fc69",
   "metadata": {},
   "outputs": [],
   "source": [
    "X3=mm.fit_transform(X)"
   ]
  },
  {
   "cell_type": "code",
   "execution_count": 83,
   "id": "4b15ab79-a9ca-4a98-9255-8ae22915d60b",
   "metadata": {},
   "outputs": [],
   "source": [
    "X3=pd.DataFrame(X3)"
   ]
  },
  {
   "cell_type": "code",
   "execution_count": 85,
   "id": "0a487c4a-dfd7-40f9-be63-e3fe6d64e4a8",
   "metadata": {},
   "outputs": [
    {
     "data": {
      "text/html": [
       "<div>\n",
       "<style scoped>\n",
       "    .dataframe tbody tr th:only-of-type {\n",
       "        vertical-align: middle;\n",
       "    }\n",
       "\n",
       "    .dataframe tbody tr th {\n",
       "        vertical-align: top;\n",
       "    }\n",
       "\n",
       "    .dataframe thead th {\n",
       "        text-align: right;\n",
       "    }\n",
       "</style>\n",
       "<table border=\"1\" class=\"dataframe\">\n",
       "  <thead>\n",
       "    <tr style=\"text-align: right;\">\n",
       "      <th></th>\n",
       "      <th>0</th>\n",
       "      <th>1</th>\n",
       "      <th>2</th>\n",
       "      <th>3</th>\n",
       "    </tr>\n",
       "  </thead>\n",
       "  <tbody>\n",
       "    <tr>\n",
       "      <th>0</th>\n",
       "      <td>0.051724</td>\n",
       "      <td>0.215909</td>\n",
       "      <td>0.000814</td>\n",
       "      <td>0.074541</td>\n",
       "    </tr>\n",
       "    <tr>\n",
       "      <th>1</th>\n",
       "      <td>0.032020</td>\n",
       "      <td>0.193182</td>\n",
       "      <td>0.000102</td>\n",
       "      <td>0.044254</td>\n",
       "    </tr>\n",
       "    <tr>\n",
       "      <th>2</th>\n",
       "      <td>0.019704</td>\n",
       "      <td>0.113636</td>\n",
       "      <td>0.000237</td>\n",
       "      <td>0.003029</td>\n",
       "    </tr>\n",
       "    <tr>\n",
       "      <th>3</th>\n",
       "      <td>0.019704</td>\n",
       "      <td>0.113636</td>\n",
       "      <td>0.000237</td>\n",
       "      <td>0.007235</td>\n",
       "    </tr>\n",
       "    <tr>\n",
       "      <th>4</th>\n",
       "      <td>0.009852</td>\n",
       "      <td>0.068182</td>\n",
       "      <td>0.000068</td>\n",
       "      <td>0.029446</td>\n",
       "    </tr>\n",
       "  </tbody>\n",
       "</table>\n",
       "</div>"
      ],
      "text/plain": [
       "          0         1         2         3\n",
       "0  0.051724  0.215909  0.000814  0.074541\n",
       "1  0.032020  0.193182  0.000102  0.044254\n",
       "2  0.019704  0.113636  0.000237  0.003029\n",
       "3  0.019704  0.113636  0.000237  0.007235\n",
       "4  0.009852  0.068182  0.000068  0.029446"
      ]
     },
     "execution_count": 85,
     "metadata": {},
     "output_type": "execute_result"
    }
   ],
   "source": [
    "X3.head(5)"
   ]
  },
  {
   "cell_type": "code",
   "execution_count": 87,
   "id": "21211ace-0b75-48c4-94d6-ebd3617ba960",
   "metadata": {},
   "outputs": [
    {
     "data": {
      "text/plain": [
       "0.3140608267294924"
      ]
     },
     "execution_count": 87,
     "metadata": {},
     "output_type": "execute_result"
    }
   ],
   "source": [
    "X3[0].mean()"
   ]
  },
  {
   "cell_type": "code",
   "execution_count": 89,
   "id": "6c79bece-2fce-424b-af7f-d185b95743f2",
   "metadata": {},
   "outputs": [
    {
     "data": {
      "text/plain": [
       "1.0"
      ]
     },
     "execution_count": 89,
     "metadata": {},
     "output_type": "execute_result"
    }
   ],
   "source": [
    "X3[0].max()"
   ]
  },
  {
   "cell_type": "code",
   "execution_count": 91,
   "id": "18781d71-9b08-4914-ba65-a123b208dea2",
   "metadata": {},
   "outputs": [
    {
     "data": {
      "text/plain": [
       "0.0"
      ]
     },
     "execution_count": 91,
     "metadata": {},
     "output_type": "execute_result"
    }
   ],
   "source": [
    "X3[0].min()"
   ]
  },
  {
   "cell_type": "code",
   "execution_count": 93,
   "id": "0c6a1c81-165a-4ebc-9919-e1dc9a58a4d9",
   "metadata": {},
   "outputs": [],
   "source": [
    "mm2=MinMaxScaler(feature_range=(0,10))"
   ]
  },
  {
   "cell_type": "code",
   "execution_count": 95,
   "id": "ba264f2f-cdfc-41e5-80ae-21645292e414",
   "metadata": {},
   "outputs": [],
   "source": [
    "X4=mm2.fit_transform(X)"
   ]
  },
  {
   "cell_type": "code",
   "execution_count": 97,
   "id": "fdda29d2-1f78-4041-8ac0-e82f9fc3b8fe",
   "metadata": {},
   "outputs": [],
   "source": [
    "X4=pd.DataFrame(X4)"
   ]
  },
  {
   "cell_type": "code",
   "execution_count": 99,
   "id": "2f64c105-701d-4acc-8665-664bcd172030",
   "metadata": {},
   "outputs": [
    {
     "data": {
      "text/html": [
       "<div>\n",
       "<style scoped>\n",
       "    .dataframe tbody tr th:only-of-type {\n",
       "        vertical-align: middle;\n",
       "    }\n",
       "\n",
       "    .dataframe tbody tr th {\n",
       "        vertical-align: top;\n",
       "    }\n",
       "\n",
       "    .dataframe thead th {\n",
       "        text-align: right;\n",
       "    }\n",
       "</style>\n",
       "<table border=\"1\" class=\"dataframe\">\n",
       "  <thead>\n",
       "    <tr style=\"text-align: right;\">\n",
       "      <th></th>\n",
       "      <th>0</th>\n",
       "      <th>1</th>\n",
       "      <th>2</th>\n",
       "      <th>3</th>\n",
       "    </tr>\n",
       "  </thead>\n",
       "  <tbody>\n",
       "    <tr>\n",
       "      <th>0</th>\n",
       "      <td>0.517241</td>\n",
       "      <td>2.159091</td>\n",
       "      <td>0.008139</td>\n",
       "      <td>0.745415</td>\n",
       "    </tr>\n",
       "    <tr>\n",
       "      <th>1</th>\n",
       "      <td>0.320197</td>\n",
       "      <td>1.931818</td>\n",
       "      <td>0.001017</td>\n",
       "      <td>0.442537</td>\n",
       "    </tr>\n",
       "    <tr>\n",
       "      <th>2</th>\n",
       "      <td>0.197044</td>\n",
       "      <td>1.136364</td>\n",
       "      <td>0.002374</td>\n",
       "      <td>0.030288</td>\n",
       "    </tr>\n",
       "    <tr>\n",
       "      <th>3</th>\n",
       "      <td>0.197044</td>\n",
       "      <td>1.136364</td>\n",
       "      <td>0.002374</td>\n",
       "      <td>0.072354</td>\n",
       "    </tr>\n",
       "    <tr>\n",
       "      <th>4</th>\n",
       "      <td>0.098522</td>\n",
       "      <td>0.681818</td>\n",
       "      <td>0.000678</td>\n",
       "      <td>0.294464</td>\n",
       "    </tr>\n",
       "  </tbody>\n",
       "</table>\n",
       "</div>"
      ],
      "text/plain": [
       "          0         1         2         3\n",
       "0  0.517241  2.159091  0.008139  0.745415\n",
       "1  0.320197  1.931818  0.001017  0.442537\n",
       "2  0.197044  1.136364  0.002374  0.030288\n",
       "3  0.197044  1.136364  0.002374  0.072354\n",
       "4  0.098522  0.681818  0.000678  0.294464"
      ]
     },
     "execution_count": 99,
     "metadata": {},
     "output_type": "execute_result"
    }
   ],
   "source": [
    "X4.head(5)"
   ]
  },
  {
   "cell_type": "code",
   "execution_count": 101,
   "id": "34cbd75a-b872-4e7f-9c6f-a1e221d78dd5",
   "metadata": {},
   "outputs": [
    {
     "data": {
      "text/plain": [
       "10.000000000000002"
      ]
     },
     "execution_count": 101,
     "metadata": {},
     "output_type": "execute_result"
    }
   ],
   "source": [
    "X4[0].max()"
   ]
  },
  {
   "cell_type": "code",
   "execution_count": 103,
   "id": "3825a5d0-18e8-463a-a300-9937eed82b8a",
   "metadata": {},
   "outputs": [
    {
     "data": {
      "text/plain": [
       "0.0"
      ]
     },
     "execution_count": 103,
     "metadata": {},
     "output_type": "execute_result"
    }
   ],
   "source": [
    "X4[0].min()"
   ]
  },
  {
   "cell_type": "code",
   "execution_count": null,
   "id": "7e77167a-5636-4e9f-b6bf-072bc808f699",
   "metadata": {},
   "outputs": [],
   "source": []
  }
 ],
 "metadata": {
  "kernelspec": {
   "display_name": "Python 3 (ipykernel)",
   "language": "python",
   "name": "python3"
  },
  "language_info": {
   "codemirror_mode": {
    "name": "ipython",
    "version": 3
   },
   "file_extension": ".py",
   "mimetype": "text/x-python",
   "name": "python",
   "nbconvert_exporter": "python",
   "pygments_lexer": "ipython3",
   "version": "3.12.7"
  }
 },
 "nbformat": 4,
 "nbformat_minor": 5
}
